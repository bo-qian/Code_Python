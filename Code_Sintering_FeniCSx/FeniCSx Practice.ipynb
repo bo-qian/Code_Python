{
 "cells": [
  {
   "metadata": {},
   "cell_type": "markdown",
   "source": "## 生成简单网格",
   "id": "9b89dbd572bace5d"
  },
  {
   "metadata": {
    "ExecuteTime": {
     "end_time": "2024-07-09T06:39:19.504657Z",
     "start_time": "2024-07-09T06:39:18.968365Z"
    }
   },
   "cell_type": "code",
   "source": [
    "from mpi4py import MPI\n",
    "from dolfinx import mesh\n",
    "domain = mesh.create_unit_square(MPI.COMM_WORLD, 8, 8, mesh.CellType.quadrilateral)"
   ],
   "id": "490a2957843c18d0",
   "outputs": [],
   "execution_count": 1
  },
  {
   "metadata": {},
   "cell_type": "markdown",
   "source": [
    "可以终端运用命令 `mpirun -n 2 python3 FeniCSx Practice.ipynb`运行，其中`-n 2`表示分配两个核心运行。\n",
    "## 定义有限元函数空间"
   ],
   "id": "bc94fcd67de32d1"
  },
  {
   "metadata": {
    "ExecuteTime": {
     "end_time": "2024-07-09T06:39:19.514096Z",
     "start_time": "2024-07-09T06:39:19.506749Z"
    }
   },
   "cell_type": "code",
   "source": [
    "from dolfinx.fem import functionspace\n",
    "V = functionspace(domain, (\"Lagrange\", 1))"
   ],
   "id": "60d453da320fbe7f",
   "outputs": [],
   "execution_count": 2
  },
  {
   "metadata": {
    "ExecuteTime": {
     "end_time": "2024-07-09T06:39:19.523919Z",
     "start_time": "2024-07-09T06:39:19.515501Z"
    }
   },
   "cell_type": "code",
   "source": [
    "from dolfinx import fem\n",
    "uD = fem.Function(V)\n",
    "uD.interpolate(lambda x: 1 + x[0] + x[1])"
   ],
   "id": "8f5cbcef1e44b8cd",
   "outputs": [],
   "execution_count": 3
  },
  {
   "metadata": {},
   "cell_type": "markdown",
   "source": "其中lambda函数是一个匿名函数，x是一个变量，1 + x[0] + x[1]是函数表达式。接受输入的x，返回1 + x[0] + x[1]的值。",
   "id": "8b98f1caa8cd8d6d"
  },
  {
   "metadata": {},
   "cell_type": "code",
   "outputs": [],
   "execution_count": null,
   "source": [
    "import numpy\n",
    "# Creat facet to cell connectivity required to determine boundary facets\n",
    "# 创建确定边界切面所需的切面到单元的连通性\n",
    "tdim = domain.topology.dim\n",
    "fdim = tdim - 1\n",
    "domain.technology.creat_connectitvity(tdim, fdim)\n",
    "boundary_facets = mesh.exterior_facet_indices(domain.technology)"
   ],
   "id": "cbf87030b8d6c5d7"
  },
  {
   "metadata": {},
   "cell_type": "code",
   "outputs": [],
   "execution_count": null,
   "source": [
    "boundary_dofs = fem.locate_dofs_topological(V, fdim, boundary_facets)\n",
    "bc = fem.dirichletbc(uD, boundary_dofs)"
   ],
   "id": "8dcfcd4346249327"
  },
  {
   "metadata": {},
   "cell_type": "markdown",
   "source": [
    "## 定义Trail and Test函数\n",
    "在数学中，我们区分试验空间和测试空间以及 .目前问题的唯一区别是边界条件。 在 FEniCSx 中，我们没有将边界条件指定为函数空间的一部分，因此为试验和测试函数使用公共空间就足够了"
   ],
   "id": "ac7f28294e3bb3ab"
  },
  {
   "metadata": {},
   "cell_type": "code",
   "outputs": [],
   "execution_count": null,
   "source": [
    "import ufl\n",
    "u = ufl.TrialFunction(V)\n",
    "v = ufl.TestFunction(V)"
   ],
   "id": "4b419490be087274"
  },
  {
   "metadata": {},
   "cell_type": "markdown",
   "source": [
    "## 定义源项\n",
    "源项在域上是恒定的，因此我们使用一个常数表达式。`dolfinx.constant`"
   ],
   "id": "2f5525abd87a81ee"
  },
  {
   "metadata": {},
   "cell_type": "code",
   "outputs": [],
   "execution_count": null,
   "source": [
    "from dolfinx import default_scalar_type\n",
    "f = fem.Constant(domain, default_scalar_type(-6))"
   ],
   "id": "ca67879918bd1d21"
  },
  {
   "metadata": {},
   "cell_type": "markdown",
   "source": "## 定义变分问题",
   "id": "2a486bc24d3a5452"
  },
  {
   "metadata": {},
   "cell_type": "code",
   "outputs": [],
   "execution_count": null,
   "source": [
    "a = ufl.dot(ufl.grad(u), ufl.grad(v)) * ufl.dx\n",
    "L = f * v * ufl.dx"
   ],
   "id": "11288230d1c8446e"
  }
 ],
 "metadata": {
  "kernelspec": {
   "display_name": "Python 3",
   "language": "python",
   "name": "python3"
  },
  "language_info": {
   "codemirror_mode": {
    "name": "ipython",
    "version": 2
   },
   "file_extension": ".py",
   "mimetype": "text/x-python",
   "name": "python",
   "nbconvert_exporter": "python",
   "pygments_lexer": "ipython2",
   "version": "2.7.6"
  }
 },
 "nbformat": 4,
 "nbformat_minor": 5
}
